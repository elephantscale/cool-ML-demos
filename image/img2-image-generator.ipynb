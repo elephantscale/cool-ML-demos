{
 "cells": [
  {
   "cell_type": "markdown",
   "metadata": {},
   "source": [
    "# Lab: Use Image Generator\n",
    "\n",
    "Learn to use Image Generator\n",
    "\n",
    "[![Open In Colab](https://colab.research.google.com/assets/colab-badge.svg)](https://colab.research.google.com/github/elephantscale/cool-ML-demos/blob/main/image/img2-image-generator.ipynb)\n",
    "\n",
    "### Runtime\n",
    "~20 minutes"
   ]
  },
  {
   "cell_type": "code",
   "execution_count": null,
   "metadata": {},
   "outputs": [],
   "source": [
    "try:\n",
    "  # %tensorflow_version only exists in Colab.\n",
    "  %tensorflow_version 2.x\n",
    "except Exception:\n",
    "  pass\n",
    "\n",
    "import tensorflow as tf\n",
    "from tensorflow import keras\n",
    "print ('tensorflow version :', tf.__version__)\n",
    "tf.config.experimental.list_physical_devices()"
   ]
  },
  {
   "cell_type": "code",
   "execution_count": null,
   "metadata": {},
   "outputs": [],
   "source": [
    "## Loading our custom utils files\n",
    "import os\n",
    "import sys\n",
    "from pathlib import Path\n",
    "\n",
    "# Hack to download image utils when running on Colab ..etc\n",
    "import os\n",
    "import urllib.request\n",
    "\n",
    "file_url = 'https://raw.githubusercontent.com/elephantscale/es-public/master/deep-learning/image_utils.py'\n",
    "file_location = \"image_utils.py\"\n",
    "\n",
    "if not os.path.exists (file_location):\n",
    "    file_location = os.path.basename(file_location)\n",
    "    if not os.path.exists(file_location):\n",
    "        print(\"Downloading : \", file_url)\n",
    "        urllib.request.urlretrieve(file_url, file_location)\n",
    "# print('file_location:', file_location)"
   ]
  },
  {
   "cell_type": "markdown",
   "metadata": {},
   "source": [
    "## Step 1: Download Data"
   ]
  },
  {
   "cell_type": "code",
   "execution_count": null,
   "metadata": {},
   "outputs": [],
   "source": [
    "import os\n",
    "\n",
    "data_location = 'https://elephantscale-public.s3.amazonaws.com/data/images/cat-dog-redux.zip'\n",
    "\n",
    "data_location_local = keras.utils.get_file(fname=os.path.basename(data_location),\n",
    "                                           origin=data_location, extract=True)\n",
    "print ('local download file: ', data_location_local)\n",
    "data_dir = os.path.join(os.path.dirname(data_location_local), 'cat-dog-redux')\n",
    "print ('local data dir: ', data_dir)\n",
    "train_dir = os.path.join(data_dir, 'train')\n",
    "validation_dir = os.path.join(data_dir, 'val')\n",
    "print ('train dir:', train_dir)\n",
    "print ('validation dir:', validation_dir)"
   ]
  },
  {
   "cell_type": "code",
   "execution_count": null,
   "metadata": {},
   "outputs": [],
   "source": [
    "from image_utils import print_training_validation_stats\n",
    "\n",
    "print_training_validation_stats(train_dir, validation_dir)"
   ]
  },
  {
   "cell_type": "code",
   "execution_count": null,
   "metadata": {},
   "outputs": [],
   "source": [
    "batch_size = 128\n",
    "epochs = 15\n",
    "IMG_HEIGHT = 150\n",
    "IMG_WIDTH = 150"
   ]
  },
  {
   "cell_type": "code",
   "execution_count": null,
   "metadata": {},
   "outputs": [],
   "source": [
    "from tensorflow.keras.preprocessing.image import ImageDataGenerator\n",
    "\n",
    "## Here we are rescaling images by dividing it by 255\n",
    "## We are shuffling the images to increase randomness\n",
    "## Images are reshaped to 150x150\n",
    "## Since we have two images, the class is binary\n",
    "\n",
    "train_image_generator = ImageDataGenerator(rescale=1./255) # Generator for our training data\n",
    "validation_image_generator = ImageDataGenerator(rescale=1./255) # Generator for our validation data\n",
    "\n",
    "train_data_gen = train_image_generator.flow_from_directory(batch_size=batch_size,\n",
    "                                                           directory=train_dir,\n",
    "                                                           shuffle=True,\n",
    "                                                           target_size=(IMG_HEIGHT, IMG_WIDTH),\n",
    "                                                           class_mode='binary')\n",
    "\n",
    "val_data_gen = validation_image_generator.flow_from_directory(batch_size=batch_size,\n",
    "                                                              directory=validation_dir,\n",
    "                                                              target_size=(IMG_HEIGHT, IMG_WIDTH),\n",
    "                                                              class_mode='binary')"
   ]
  },
  {
   "cell_type": "code",
   "execution_count": null,
   "metadata": {},
   "outputs": [],
   "source": [
    "# we can get images per batch\n",
    "\n",
    "sample_training_images, sample_training_labels = next(train_data_gen)\n",
    "sample_validation_images, sample_validation_labels = next(val_data_gen)\n",
    "\n",
    "print ('# sample training images: ', len(sample_training_images))\n",
    "print ('# sample validation images: ', len(sample_validation_images))\n",
    "print ('sample training labels : ', sample_training_labels[:10])"
   ]
  },
  {
   "cell_type": "code",
   "execution_count": null,
   "metadata": {},
   "outputs": [],
   "source": [
    "# This function will plot images in the form of a grid with 1 row and 5 columns where images are placed in each column.\n",
    "def plotImages(images_arr):\n",
    "    import matplotlib.pyplot as plt\n",
    "    \n",
    "    fig, axes = plt.subplots(1, 5, figsize=(20,20))\n",
    "    axes = axes.flatten()\n",
    "    for img, ax in zip( images_arr, axes):\n",
    "        ax.imshow(img)\n",
    "        ax.axis('off')\n",
    "    plt.tight_layout()\n",
    "    plt.show()\n",
    "    \n",
    "\n",
    "print (\"training images...\")\n",
    "plotImages(sample_training_images)\n",
    "\n",
    "print (\"validation images...\")\n",
    "plotImages(sample_validation_images)"
   ]
  },
  {
   "cell_type": "markdown",
   "metadata": {},
   "source": [
    "## More Image Generator Attributes"
   ]
  },
  {
   "cell_type": "code",
   "execution_count": null,
   "metadata": {},
   "outputs": [],
   "source": [
    "## directory\n",
    "print ('image dir :', train_data_gen.directory)\n",
    "print()\n",
    "\n",
    "## Image count\n",
    "print (\"total training images : \", train_data_gen.n)\n",
    "print()\n",
    "\n",
    "## Class indexes \n",
    "print (\"Class indices : \", train_data_gen.class_indices)\n",
    "print ()\n",
    "\n",
    "## Some file names\n",
    "print ('file names : ', train_data_gen.filenames[:5])\n",
    "print ()\n",
    "\n",
    "## file paths\n",
    "print ('file paths : ', train_data_gen.filepaths[:5])\n",
    "print ()"
   ]
  },
  {
   "cell_type": "markdown",
   "metadata": {},
   "source": [
    "## Augmenting Images\n",
    "\n",
    "We augment images\n",
    "- to produce more variants of training images (so the algorithm gets more resilient)\n",
    "- increase training data size\n",
    "- to prevent overfitting"
   ]
  },
  {
   "cell_type": "markdown",
   "metadata": {},
   "source": [
    "### Horizontal Flip"
   ]
  },
  {
   "cell_type": "code",
   "execution_count": null,
   "metadata": {},
   "outputs": [],
   "source": [
    "## Let's start with horizontal flip\n",
    "\n",
    "from tensorflow.keras.preprocessing.image import ImageDataGenerator\n",
    "\n",
    "train_image_generator2 = ImageDataGenerator(rescale=1./255, horizontal_flip=True)\n",
    "\n",
    "train_data_gen2 = train_image_generator2.flow_from_directory(batch_size=batch_size,\n",
    "                                               directory=train_dir,\n",
    "                                               shuffle=True,\n",
    "                                               target_size=(IMG_HEIGHT, IMG_WIDTH))\n",
    "\n",
    "augmented_images = [train_data_gen2[0][0][0] for i in range(5)]\n",
    "print ('horizontal flip 1')\n",
    "plotImages (augmented_images)\n",
    "\n",
    "augmented_images = [train_data_gen2[0][0][1] for i in range(5)]\n",
    "print ('horizontal flip 2')\n",
    "plotImages (augmented_images)"
   ]
  },
  {
   "cell_type": "markdown",
   "metadata": {},
   "source": [
    "### Rotatation"
   ]
  },
  {
   "cell_type": "code",
   "execution_count": null,
   "metadata": {},
   "outputs": [],
   "source": [
    "from tensorflow.keras.preprocessing.image import ImageDataGenerator\n",
    "\n",
    "train_image_generator2 = ImageDataGenerator(rescale=1./255, rotation_range=45)\n",
    "\n",
    "train_data_gen2 = train_image_generator2.flow_from_directory(batch_size=batch_size,\n",
    "                                               directory=train_dir,\n",
    "                                               shuffle=True,\n",
    "                                               target_size=(IMG_HEIGHT, IMG_WIDTH))\n",
    "\n",
    "augmented_images = [train_data_gen2[0][0][0] for i in range(5)]\n",
    "print ('rotated images 1')\n",
    "plotImages (augmented_images)\n",
    "\n",
    "augmented_images = [train_data_gen2[0][0][1] for i in range(5)]\n",
    "print ('rotated images 2')\n",
    "plotImages (augmented_images)"
   ]
  },
  {
   "cell_type": "markdown",
   "metadata": {},
   "source": [
    "### Zoom"
   ]
  },
  {
   "cell_type": "code",
   "execution_count": null,
   "metadata": {},
   "outputs": [],
   "source": [
    "from tensorflow.keras.preprocessing.image import ImageDataGenerator\n",
    "\n",
    "# zoom_range from 0 - 1 where 1 = 100%.\n",
    "train_image_generator2 = ImageDataGenerator(rescale=1./255, zoom_range=0.5)\n",
    "\n",
    "train_data_gen2 = train_image_generator2.flow_from_directory(batch_size=batch_size,\n",
    "                                               directory=train_dir,\n",
    "                                               shuffle=True,\n",
    "                                               target_size=(IMG_HEIGHT, IMG_WIDTH))\n",
    "\n",
    "augmented_images = [train_data_gen2[0][0][0] for i in range(5)]\n",
    "print ('zoomed images 1')\n",
    "plotImages (augmented_images)\n",
    "\n",
    "augmented_images = [train_data_gen2[0][0][1] for i in range(5)]\n",
    "print ('zoomed images 2')\n",
    "plotImages (augmented_images)"
   ]
  },
  {
   "cell_type": "markdown",
   "metadata": {},
   "source": [
    "## Shearing"
   ]
  },
  {
   "cell_type": "code",
   "execution_count": null,
   "metadata": {},
   "outputs": [],
   "source": [
    "from tensorflow.keras.preprocessing.image import ImageDataGenerator\n",
    "\n",
    "# shear_range = 0 to 1\n",
    "train_image_generator2 = ImageDataGenerator(rescale=1./255, shear_range=0.3)\n",
    "\n",
    "train_data_gen2 = train_image_generator2.flow_from_directory(batch_size=batch_size,\n",
    "                                               directory=train_dir,\n",
    "                                               shuffle=True,\n",
    "                                               target_size=(IMG_HEIGHT, IMG_WIDTH))\n",
    "\n",
    "augmented_images = [train_data_gen2[0][0][0] for i in range(5)]\n",
    "print ('sheard images 1')\n",
    "plotImages (augmented_images)\n",
    "\n",
    "augmented_images = [train_data_gen2[0][0][1] for i in range(5)]\n",
    "print ('sheard images 2')\n",
    "plotImages (augmented_images)"
   ]
  },
  {
   "cell_type": "markdown",
   "metadata": {},
   "source": [
    "## Brightness"
   ]
  },
  {
   "cell_type": "code",
   "execution_count": null,
   "metadata": {},
   "outputs": [],
   "source": [
    "from tensorflow.keras.preprocessing.image import ImageDataGenerator\n",
    "\n",
    "# Values over 1.0 will brighten the image; values less than 1.0 will darken the image;  1.0 no change\n",
    "train_image_generator2 = ImageDataGenerator(rescale=1./255, brightness_range=[0.2,0.7])\n",
    "\n",
    "train_data_gen2 = train_image_generator2.flow_from_directory(batch_size=batch_size,\n",
    "                                               directory=train_dir,\n",
    "                                               shuffle=True,\n",
    "                                               target_size=(IMG_HEIGHT, IMG_WIDTH))\n",
    "\n",
    "augmented_images = [train_data_gen2[0][0][0] for i in range(5)]\n",
    "print ('brightness images 1')\n",
    "plotImages (augmented_images)\n",
    "\n",
    "augmented_images = [train_data_gen2[0][0][1] for i in range(5)]\n",
    "print ('brightness images 2')\n",
    "plotImages (augmented_images)"
   ]
  },
  {
   "cell_type": "markdown",
   "metadata": {},
   "source": [
    "### Putting it all together"
   ]
  },
  {
   "cell_type": "code",
   "execution_count": null,
   "metadata": {},
   "outputs": [],
   "source": [
    "from tensorflow.keras.preprocessing.image import ImageDataGenerator\n",
    "\n",
    "train_image_generator2 = ImageDataGenerator(\n",
    "                            rescale=1./255,\n",
    "                            rotation_range=45,\n",
    "                            width_shift_range=.15,\n",
    "                            height_shift_range=.15,\n",
    "                            horizontal_flip=True,\n",
    "                            zoom_range=0.5,\n",
    "                            #brightness_range=[0.2,0.7],\n",
    "                            shear_range=0.3,\n",
    "                            fill_mode='nearest'\n",
    "                            )\n",
    "\n",
    "train_data_gen2 = train_image_generator2.flow_from_directory(batch_size=batch_size,\n",
    "                                               directory=train_dir,\n",
    "                                               shuffle=True,\n",
    "                                               target_size=(IMG_HEIGHT, IMG_WIDTH))\n",
    "\n",
    "augmented_images = [train_data_gen2[0][0][0] for i in range(5)]\n",
    "print ('augmented images 1')\n",
    "plotImages (augmented_images)\n",
    "\n",
    "augmented_images = [train_data_gen2[0][0][1] for i in range(5)]\n",
    "print ('augmented images 2')\n",
    "plotImages (augmented_images)"
   ]
  },
  {
   "cell_type": "code",
   "execution_count": null,
   "metadata": {},
   "outputs": [],
   "source": []
  }
 ],
 "metadata": {
  "kernelspec": {
   "display_name": "tf-gpu",
   "language": "python",
   "name": "tf-gpu"
  },
  "language_info": {
   "codemirror_mode": {
    "name": "ipython",
    "version": 3
   },
   "file_extension": ".py",
   "mimetype": "text/x-python",
   "name": "python",
   "nbconvert_exporter": "python",
   "pygments_lexer": "ipython3",
   "version": "3.8.2"
  }
 },
 "nbformat": 4,
 "nbformat_minor": 4
}
