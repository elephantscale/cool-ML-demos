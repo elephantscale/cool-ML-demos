{
 "cells": [
  {
   "cell_type": "markdown",
   "metadata": {
    "id": "KCxWr_lliB0_"
   },
   "source": [
    "# Question Answering with Transformers\n",
    "\n",
    "In this lab we will use Hugging Face's transformer library\n",
    "\n",
    "https://github.com/huggingface/transformers\n",
    "\n",
    "[Nice online demo at Allen NLP](https://demo.allennlp.org/reading-comprehension/bidaf-elmo)\n",
    "\n",
    "\n",
    "[![Open In Colab](https://colab.research.google.com/assets/colab-badge.svg)](https://colab.research.google.com/github/elephantscale/cool-demos/blob/main/transformers/transformer_qa.ipynb)"
   ]
  },
  {
   "cell_type": "markdown",
   "metadata": {
    "id": "Bo8guFQViSap"
   },
   "source": [
    "## Step 1 - Install transformer library\n",
    "\n",
    "uncomment and run the following cell"
   ]
  },
  {
   "cell_type": "code",
   "execution_count": 1,
   "metadata": {
    "id": "d12LXqUhidAL"
   },
   "outputs": [],
   "source": [
    "# !  pip install transformers"
   ]
  },
  {
   "cell_type": "markdown",
   "metadata": {
    "id": "NxC70q_ni2lt"
   },
   "source": [
    "## Step 2 - Load transformer \n",
    "\n",
    "First time we load, it will download the model files"
   ]
  },
  {
   "cell_type": "code",
   "execution_count": 2,
   "metadata": {
    "colab": {
     "base_uri": "https://localhost:8080/"
    },
    "id": "Zcq_RWrRi1Zm",
    "outputId": "20020622-c91d-4faf-959c-2e0162cdce83"
   },
   "outputs": [
    {
     "name": "stdout",
     "output_type": "stream",
     "text": [
      "Loading hugingface qa pipeline...\n",
      "Loaded huggingface  in 7,713.5 milli seconds\n"
     ]
    }
   ],
   "source": [
    "import time\n",
    "from transformers import Pipeline\n",
    "from transformers import pipeline\n",
    "\n",
    "print (\"Loading hugingface qa pipeline...\")\n",
    "t1 = time.perf_counter()\n",
    "qapipe = pipeline(\"question-answering\")\n",
    "# qapipe = pipeline('question-answering',\n",
    "#                    model='distilbert-base-uncased-distilled-squad',\n",
    "#                    tokenizer='bert-base-uncased')\n",
    "t2 = time.perf_counter()\n",
    "print (\"Loaded huggingface  in {:,.1f} milli seconds\".format ((t2-t1)*1e3))"
   ]
  },
  {
   "cell_type": "markdown",
   "metadata": {
    "id": "OemqDYdpjTwH"
   },
   "source": [
    "## Step 3 - Query"
   ]
  },
  {
   "cell_type": "code",
   "execution_count": 3,
   "metadata": {
    "id": "2fclkozfjHQY"
   },
   "outputs": [],
   "source": [
    "from pprint import pprint\n",
    "\n",
    "def ask_question (passage, question):\n",
    "    t1 = time.perf_counter()\n",
    "    answer = qapipe({ 'question': question, 'context': passage })\n",
    "    t2 = time.perf_counter()\n",
    "    print ('question: ', question)\n",
    "    print (\"answered in {:,.1f} milli seconds\".format ((t2-t1)*1e3))\n",
    "    print()\n",
    "    pprint (answer)\n",
    "    print ('--------------')"
   ]
  },
  {
   "cell_type": "code",
   "execution_count": 4,
   "metadata": {
    "colab": {
     "base_uri": "https://localhost:8080/"
    },
    "id": "-4qe-arpjcRp",
    "outputId": "7bfe1763-2dfb-4268-963d-ed1b2bcc5c11"
   },
   "outputs": [
    {
     "name": "stdout",
     "output_type": "stream",
     "text": [
      "question:  Who stars in The Matrix?\n",
      "answered in 122.9 milli seconds\n",
      "\n",
      "{'answer': 'Keanu Reeves',\n",
      " 'end': 111,\n",
      " 'score': 0.11751911789178848,\n",
      " 'start': 99}\n",
      "--------------\n"
     ]
    }
   ],
   "source": [
    "passage = \"\"\"The Matrix is a 1999 science fiction action film written and directed by The Wachowskis, starring\n",
    " Keanu Reeves, Laurence Fishburne, Carrie-Anne Moss, Hugo Weaving, and Joe Pantoliano.\"\"\"\n",
    "\n",
    "question=\"Who stars in The Matrix?\"\n",
    "\n",
    "ask_question(passage, question)"
   ]
  },
  {
   "cell_type": "code",
   "execution_count": 5,
   "metadata": {
    "colab": {
     "base_uri": "https://localhost:8080/"
    },
    "id": "SBD1pQA7jjlz",
    "outputId": "3793f068-7354-4c21-afb1-640e4aa9a36e"
   },
   "outputs": [
    {
     "name": "stdout",
     "output_type": "stream",
     "text": [
      "question:  where do polar bear live?\n",
      "answered in 551.4 milli seconds\n",
      "\n",
      "{'answer': 'throughout the Arctic',\n",
      " 'end': 39,\n",
      " 'score': 0.6535168886184692,\n",
      " 'start': 18}\n",
      "--------------\n",
      "question:  how much does a polar bear weigh?\n",
      "answered in 539.1 milli seconds\n",
      "\n",
      "{'answer': '700 to 1,200 pounds',\n",
      " 'end': 1058,\n",
      " 'score': 0.17647717893123627,\n",
      " 'start': 1039}\n",
      "--------------\n",
      "question:  What do polar bears eat?\n",
      "answered in 503.7 milli seconds\n",
      "\n",
      "{'answer': 'seals', 'end': 75, 'score': 0.9442089200019836, 'start': 70}\n",
      "--------------\n"
     ]
    }
   ],
   "source": [
    "passage = \"\"\"\n",
    "Polar bears live throughout the Arctic, in areas where they can hunt seals in wide cracks in the sea ice or at\n",
    " breathing holes. The taxonomic name for polar bears is Ursus maritimus, which means sea bear, a fitting name\n",
    "for these champion swimmers. They have been known to swim more than 60 miles (about 100 kilometers) without re\n",
    "st in search of food, using their broad front feet for paddling and their back legs like rudders to steer. Unf\n",
    "ortunately, due to loss of ice, the bears are now having to swim longer distances, as much as a few hundred mi\n",
    "les, which takes a toll on their energy and fat storage.\n",
    "\n",
    "Despite the long, harsh winter, polar bears don’t hibernate. In fact, most of them (except pregnant females) c\n",
    "ontinue to hunt seals throughout the winter. When the weather is extremely cold and hunting is impossible, bea\n",
    "rs may seek temporary shelter in show dens until conditions improve.\n",
    "\n",
    "Polar bears can grow up to 5.3 feet (1.6 meters) at the shoulder\n",
    "\n",
    "Females weigh 330 to 650 pounds (150 to 294 kilograms); males weigh 700 to 1,200 pounds (317 to 544 kilograms)\n",
    "\"\"\"\n",
    "\n",
    "question = \"where do polar bear live?\"\n",
    "\n",
    "ask_question(passage, question)\n",
    "\n",
    "question = \"how much does a polar bear weigh?\"\n",
    "ask_question(passage, question)\n",
    "\n",
    "question = \"What do polar bears eat?\"\n",
    "ask_question(passage, question)"
   ]
  }
 ],
 "metadata": {
  "colab": {
   "collapsed_sections": [],
   "name": "transformer-qa",
   "provenance": []
  },
  "kernelspec": {
   "display_name": "Python 3",
   "language": "python",
   "name": "python3"
  },
  "language_info": {
   "codemirror_mode": {
    "name": "ipython",
    "version": 3
   },
   "file_extension": ".py",
   "mimetype": "text/x-python",
   "name": "python",
   "nbconvert_exporter": "python",
   "pygments_lexer": "ipython3",
   "version": "3.8.10"
  }
 },
 "nbformat": 4,
 "nbformat_minor": 4
}
