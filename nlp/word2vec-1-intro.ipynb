{
 "cells": [
  {
   "cell_type": "markdown",
   "metadata": {},
   "source": [
    "# Word2Vec Intro\n",
    "Understand how word2vec algorithm works\n",
    "\n",
    "[![Open In Colab](https://colab.research.google.com/assets/colab-badge.svg)](https://colab.research.google.com/github/elephantscale/cool-demos/blob/main/nlp/word2vec-1-intro.ipynb)\n",
    "\n",
    "### Runtime\n",
    "15 mins\n",
    "\n",
    "\n",
    "references\n",
    "- https://machinelearningmastery.com/develop-word-embeddings-python-gensim/\n",
    "\n",
    "## Overview\n",
    "\n",
    "Checkout [projector.tensorflow.org](https://projector.tensorflow.org/)  for online demo!"
   ]
  },
  {
   "cell_type": "markdown",
   "metadata": {},
   "source": [
    "## Step 1 - Data"
   ]
  },
  {
   "cell_type": "code",
   "execution_count": 1,
   "metadata": {},
   "outputs": [],
   "source": [
    "## Here we are skipping stop words like : is, are\n",
    "sentences = [\n",
    "        'dog  cat  domestic animals'.split(),   # 'dog and cat are domestic animals'\n",
    "        'dog  cat  pets'.split(),   # dog and cat are pets\n",
    "        'dog  cat  enemies'.split(),  # dog and cat are enemies\n",
    "        'sushi fish'.split(),  # sushi has fish\n",
    "        'sushi  rice'.split()  # sushi has rice\n",
    "]"
   ]
  },
  {
   "cell_type": "markdown",
   "metadata": {},
   "source": [
    "## Step 2 - Train a Word2Vec model"
   ]
  },
  {
   "cell_type": "code",
   "execution_count": 2,
   "metadata": {},
   "outputs": [
    {
     "name": "stdout",
     "output_type": "stream",
     "text": [
      "Word2Vec(vocab=9, size=100, alpha=0.025)\n",
      "CPU times: user 669 ms, sys: 689 ms, total: 1.36 s\n",
      "Wall time: 364 ms\n"
     ]
    }
   ],
   "source": [
    "%%time\n",
    "from gensim.models import Word2Vec\n",
    "\n",
    "# train\n",
    "model = Word2Vec(sentences, min_count=1)\n",
    "# summarize the loaded model\n",
    "print(model)"
   ]
  },
  {
   "cell_type": "code",
   "execution_count": 3,
   "metadata": {},
   "outputs": [
    {
     "data": {
      "text/plain": [
       "{'dog': <gensim.models.keyedvectors.Vocab at 0x7f3db02272b0>,\n",
       " 'cat': <gensim.models.keyedvectors.Vocab at 0x7f3db0227550>,\n",
       " 'domestic': <gensim.models.keyedvectors.Vocab at 0x7f3db0227588>,\n",
       " 'animals': <gensim.models.keyedvectors.Vocab at 0x7f3db02275c0>,\n",
       " 'pets': <gensim.models.keyedvectors.Vocab at 0x7f3d92cb9cc0>,\n",
       " 'enemies': <gensim.models.keyedvectors.Vocab at 0x7f3d92cb9cf8>,\n",
       " 'sushi': <gensim.models.keyedvectors.Vocab at 0x7f3d92aed2b0>,\n",
       " 'fish': <gensim.models.keyedvectors.Vocab at 0x7f3d92a1bc88>,\n",
       " 'rice': <gensim.models.keyedvectors.Vocab at 0x7f3d929e72b0>}"
      ]
     },
     "execution_count": 3,
     "metadata": {},
     "output_type": "execute_result"
    }
   ],
   "source": [
    "# summarize vocabulary\n",
    "model.wv.vocab"
   ]
  },
  {
   "cell_type": "code",
   "execution_count": 4,
   "metadata": {},
   "outputs": [
    {
     "name": "stdout",
     "output_type": "stream",
     "text": [
      "[-4.8351591e-03  3.4744530e-03 -1.4519688e-03 -3.2536306e-03\n",
      " -3.7812891e-03 -2.9908826e-03  2.8983282e-03 -8.0656190e-04\n",
      "  2.8796170e-03 -1.7652292e-03 -2.5155430e-03  3.0750860e-03\n",
      "  1.1371209e-03  1.3201663e-03 -3.0576226e-03  2.0660197e-03\n",
      "  1.2492742e-03  1.4134261e-03 -1.8425760e-04  2.0438877e-03\n",
      " -1.9448301e-03  8.3302111e-05 -1.5790496e-03  3.8306194e-03\n",
      " -4.4419779e-03 -2.3121426e-03 -1.6115182e-03 -3.7887241e-03\n",
      "  6.5071322e-04 -1.0384436e-03 -3.8295430e-03  2.4209949e-03\n",
      " -4.8135202e-03  2.4192906e-03  3.5803777e-03  5.2367459e-04\n",
      "  1.4203154e-03  2.8078414e-03 -3.0081666e-03 -1.7360783e-03\n",
      "  3.8228966e-03 -1.0841951e-03 -1.4380576e-03  5.7306909e-04\n",
      " -2.7666714e-03  3.8534575e-04 -6.5972086e-04  1.3162927e-03\n",
      "  1.5718110e-03 -1.4500398e-03 -1.1755885e-03 -1.1756103e-03\n",
      "  3.1252897e-03 -3.7989309e-03  3.7095458e-03 -2.6361065e-03\n",
      " -2.1640293e-03  3.0332084e-03 -5.8502116e-04  2.4220461e-03\n",
      " -4.8750886e-03 -2.4334404e-03 -8.3359348e-04 -4.2625610e-03\n",
      " -3.9423630e-03 -1.5191726e-03  2.2665332e-03 -1.3524081e-03\n",
      " -1.7583247e-03 -1.5867307e-03  4.4685388e-03  4.8750611e-03\n",
      "  1.9269635e-03 -4.0667905e-03  3.0174071e-04 -2.7580418e-05\n",
      "  4.8712669e-03  1.4628897e-03  1.5271594e-03 -2.3361410e-03\n",
      " -2.6017108e-03 -3.2395376e-03  4.3959813e-03  3.0992739e-03\n",
      "  3.0785315e-03  4.4213631e-03 -4.9408190e-03 -3.6991227e-03\n",
      "  4.3134233e-03 -1.6980495e-03  1.5406671e-03 -2.3863183e-03\n",
      "  1.0804794e-03  2.6286580e-03 -1.4573573e-03 -3.2849428e-03\n",
      " -5.8808341e-04 -3.6886579e-03 -3.7102732e-03 -3.2616372e-03]\n"
     ]
    }
   ],
   "source": [
    "## access vector for one word\n",
    "print(model.wv['dog'])"
   ]
  },
  {
   "cell_type": "markdown",
   "metadata": {},
   "source": [
    "## Step 3 - Plot the model\n",
    "Here we are reducing the model from 100 dimensions to just 2, so we can plot.  \n",
    "We are using PCA algorithm to reduce the dimensions.\n",
    "\n",
    "Does this plot makes sense? :-)  \n",
    "We don't have much data !"
   ]
  },
  {
   "cell_type": "code",
   "execution_count": 5,
   "metadata": {},
   "outputs": [
    {
     "name": "stderr",
     "output_type": "stream",
     "text": [
      "/home/ubuntu/apps/anaconda/lib/python3.7/site-packages/ipykernel_launcher.py:8: DeprecationWarning: Call to deprecated `__getitem__` (Method will be removed in 4.0.0, use self.wv.__getitem__() instead).\n",
      "  \n"
     ]
    },
    {
     "data": {
      "image/png": "[encoded data removed]",
      "text/plain": [
       "<Figure size 432x288 with 1 Axes>"
      ]
     },
     "metadata": {
      "needs_background": "light"
     },
     "output_type": "display_data"
    }
   ],
   "source": [
    "%matplotlib inline\n",
    "from matplotlib import pyplot\n",
    "from gensim.models import Word2Vec\n",
    "from sklearn.decomposition import PCA\n",
    "\n",
    "\n",
    "# fit a 2d PCA model to the vectors\n",
    "X = model[model.wv.vocab]\n",
    "pca = PCA(n_components=2)\n",
    "result = pca.fit_transform(X)\n",
    "# create a scatter plot of the projection\n",
    "pyplot.scatter(result[:, 0], result[:, 1])\n",
    "words = list(model.wv.vocab)\n",
    "for i, word in enumerate(words):\n",
    "  pyplot.annotate(word, xy=(result[i, 0], result[i, 1]))\n",
    "pyplot.show()"
   ]
  },
  {
   "cell_type": "markdown",
   "metadata": {},
   "source": [
    "## Step 4 - Find Similarities"
   ]
  },
  {
   "cell_type": "code",
   "execution_count": 6,
   "metadata": {},
   "outputs": [
    {
     "data": {
      "text/plain": [
       "[('pets', -0.0101076140999794),\n",
       " ('enemies', -0.03429441899061203),\n",
       " ('rice', -0.037227384746074677),\n",
       " ('sushi', -0.04112032800912857),\n",
       " ('domestic', -0.07325896620750427),\n",
       " ('animals', -0.07641163468360901),\n",
       " ('dog', -0.08209918439388275),\n",
       " ('fish', -0.11530392616987228)]"
      ]
     },
     "execution_count": 6,
     "metadata": {},
     "output_type": "execute_result"
    }
   ],
   "source": [
    "model.wv.most_similar('cat')\n",
    "## does the result make sense? :-) "
   ]
  },
  {
   "cell_type": "code",
   "execution_count": 7,
   "metadata": {},
   "outputs": [
    {
     "data": {
      "text/plain": [
       "[('dog', 0.19546133279800415),\n",
       " ('enemies', 0.05798426270484924),\n",
       " ('domestic', 0.05686376616358757),\n",
       " ('animals', 0.010168250650167465),\n",
       " ('sushi', -0.009622186422348022),\n",
       " ('cat', -0.03722739592194557),\n",
       " ('fish', -0.07810284197330475),\n",
       " ('pets', -0.09488852322101593)]"
      ]
     },
     "execution_count": 7,
     "metadata": {},
     "output_type": "execute_result"
    }
   ],
   "source": [
    "model.wv.most_similar('rice')"
   ]
  },
  {
   "cell_type": "markdown",
   "metadata": {},
   "source": [
    "## Step 5 - More 'complicated' Queries\n",
    "Here we can ask more complex queries.  \n",
    "The results are fun"
   ]
  },
  {
   "cell_type": "code",
   "execution_count": 21,
   "metadata": {},
   "outputs": [
    {
     "data": {
      "text/plain": [
       "[('dog', 0.1380930095911026),\n",
       " ('domestic', 0.011850079521536827),\n",
       " ('fish', -0.019081924110651016),\n",
       " ('enemies', -0.021102789789438248),\n",
       " ('animals', -0.03029714897274971),\n",
       " ('cat', -0.055668674409389496),\n",
       " ('pets', -0.10723534226417542)]"
      ]
     },
     "execution_count": 21,
     "metadata": {},
     "output_type": "execute_result"
    }
   ],
   "source": [
    " model.wv.most_similar(positive=['rice', 'sushi'])"
   ]
  },
  {
   "cell_type": "code",
   "execution_count": 22,
   "metadata": {},
   "outputs": [
    {
     "data": {
      "text/plain": [
       "[('enemies', 0.16210830211639404)]"
      ]
     },
     "execution_count": 22,
     "metadata": {},
     "output_type": "execute_result"
    }
   ],
   "source": [
    " model.wv.most_similar(positive=['cat', 'dog'], negative=['fish'], topn=1)"
   ]
  },
  {
   "cell_type": "markdown",
   "metadata": {},
   "source": [
    "## Step 6 - Save the model"
   ]
  },
  {
   "cell_type": "code",
   "execution_count": 8,
   "metadata": {},
   "outputs": [
    {
     "name": "stdout",
     "output_type": "stream",
     "text": [
      "saved\n"
     ]
    }
   ],
   "source": [
    "# save\n",
    "model.save('my_model.bin')\n",
    "print (\"saved\")"
   ]
  },
  {
   "cell_type": "code",
   "execution_count": 9,
   "metadata": {},
   "outputs": [
    {
     "name": "stdout",
     "output_type": "stream",
     "text": [
      "Word2Vec(vocab=9, size=100, alpha=0.025)\n"
     ]
    }
   ],
   "source": [
    "## load the saved model\n",
    "new_model = Word2Vec.load('my_model.bin')\n",
    "print(new_model)"
   ]
  },
  {
   "cell_type": "code",
   "execution_count": 10,
   "metadata": {},
   "outputs": [
    {
     "data": {
      "text/plain": [
       "{'dog': <gensim.models.keyedvectors.Vocab at 0x7f3d889304e0>,\n",
       " 'cat': <gensim.models.keyedvectors.Vocab at 0x7f3d889307f0>,\n",
       " 'domestic': <gensim.models.keyedvectors.Vocab at 0x7f3d889301d0>,\n",
       " 'animals': <gensim.models.keyedvectors.Vocab at 0x7f3d88930a90>,\n",
       " 'pets': <gensim.models.keyedvectors.Vocab at 0x7f3d88930be0>,\n",
       " 'enemies': <gensim.models.keyedvectors.Vocab at 0x7f3d88930eb8>,\n",
       " 'sushi': <gensim.models.keyedvectors.Vocab at 0x7f3d88930e10>,\n",
       " 'fish': <gensim.models.keyedvectors.Vocab at 0x7f3d88930a20>,\n",
       " 'rice': <gensim.models.keyedvectors.Vocab at 0x7f3d88930e48>}"
      ]
     },
     "execution_count": 10,
     "metadata": {},
     "output_type": "execute_result"
    }
   ],
   "source": [
    "new_model.wv.vocab"
   ]
  },
  {
   "cell_type": "code",
   "execution_count": 19,
   "metadata": {},
   "outputs": [
    {
     "data": {
      "text/plain": [
       "[('domestic', 0.2768159508705139),\n",
       " ('dog', 0.12614695727825165),\n",
       " ('animals', 0.11893367767333984),\n",
       " ('sushi', 0.05124707147479057),\n",
       " ('pets', -0.047772884368896484),\n",
       " ('rice', -0.07810284197330475),\n",
       " ('cat', -0.11530394107103348),\n",
       " ('enemies', -0.15925821661949158)]"
      ]
     },
     "execution_count": 19,
     "metadata": {},
     "output_type": "execute_result"
    }
   ],
   "source": [
    "## query the new model\n",
    "new_model.wv.most_similar('fish')"
   ]
  },
  {
   "cell_type": "markdown",
   "metadata": {},
   "source": [
    "## Step 7 - Experiment\n",
    "In Step-1, come up with some text data so our model is 'smarter'!  \n",
    "Share your results with the class."
   ]
  },
  {
   "cell_type": "code",
   "execution_count": null,
   "metadata": {},
   "outputs": [],
   "source": []
  }
 ],
 "metadata": {
  "kernelspec": {
   "display_name": "Python 3",
   "language": "python",
   "name": "python3"
  },
  "language_info": {
   "codemirror_mode": {
    "name": "ipython",
    "version": 3
   },
   "file_extension": ".py",
   "mimetype": "text/x-python",
   "name": "python",
   "nbconvert_exporter": "python",
   "pygments_lexer": "ipython3",
   "version": "3.8.10"
  }
 },
 "nbformat": 4,
 "nbformat_minor": 4
}
