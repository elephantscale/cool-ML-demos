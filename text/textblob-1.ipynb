{
 "cells": [
  {
   "cell_type": "markdown",
   "id": "67b5bb86-4fe4-4330-9568-12b760de4192",
   "metadata": {},
   "source": [
    "# Text Analysis With TextBlob\n",
    "\n",
    "https://textblob.readthedocs.io/en/dev/\n",
    "\n",
    "\n",
    "[![Open In Colab](https://colab.research.google.com/assets/colab-badge.svg)](https://colab.research.google.com/github/elephantscale/cool-demos/blob/main/text/textblob-1.ipynb)\n"
   ]
  },
  {
   "cell_type": "markdown",
   "id": "17ddb336-8577-41d4-af62-2d4e497ab23d",
   "metadata": {},
   "source": [
    "## Install Packages\n",
    "\n",
    "Install text blob if missing"
   ]
  },
  {
   "cell_type": "code",
   "execution_count": null,
   "id": "8fc8f42c-dd2c-49a0-b751-5ea035dfe588",
   "metadata": {},
   "outputs": [],
   "source": [
    "from textblob import TextBlob\n",
    "import nltk\n",
    "\n",
    "# if these imports fail, install required packages below"
   ]
  },
  {
   "cell_type": "code",
   "execution_count": null,
   "id": "1d5fb91e-ded9-477d-b3d8-171f9bebe604",
   "metadata": {},
   "outputs": [],
   "source": [
    "#!pip install textblob\n",
    "\n",
    "# ! conda install --yes -c conda-forge textblob"
   ]
  },
  {
   "cell_type": "code",
   "execution_count": null,
   "id": "11137f70-55db-49f2-906f-7a0b2e77f858",
   "metadata": {},
   "outputs": [],
   "source": [
    "from textblob import TextBlob\n",
    "import nltk"
   ]
  },
  {
   "cell_type": "markdown",
   "id": "658419a2-8787-4114-9800-7c24032382c2",
   "metadata": {},
   "source": [
    "## Sentiments\n",
    "\n",
    "Returns between -1.0 (negative)  and +1.0 (positive)"
   ]
  },
  {
   "cell_type": "code",
   "execution_count": null,
   "id": "bfd7c4ad-b7f3-44b9-b710-17f3bc2104f0",
   "metadata": {},
   "outputs": [],
   "source": [
    "tweets = [\"I love bigmacs\",  \n",
    "          \"I hate this traffic!\",  \n",
    "          \"American Idol is awesome!\", \n",
    "          \"this song is lame\", \n",
    "          \"Let's go to beach\"]\n",
    "\n",
    "for tweet in tweets:\n",
    "    tb = TextBlob(tweet)\n",
    "    print(\"{} ==> {}\".format(tweet, tb.sentiment))"
   ]
  },
  {
   "cell_type": "code",
   "execution_count": null,
   "id": "07c9e89b-9fd8-4f3b-92c6-b1d0e4367dc9",
   "metadata": {},
   "outputs": [],
   "source": []
  }
 ],
 "metadata": {
  "kernelspec": {
   "display_name": "demo",
   "language": "python",
   "name": "demo"
  },
  "language_info": {
   "codemirror_mode": {
    "name": "ipython",
    "version": 3
   },
   "file_extension": ".py",
   "mimetype": "text/x-python",
   "name": "python",
   "nbconvert_exporter": "python",
   "pygments_lexer": "ipython3",
   "version": "3.8.11"
  }
 },
 "nbformat": 4,
 "nbformat_minor": 5
}
