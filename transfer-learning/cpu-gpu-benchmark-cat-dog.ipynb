{
 "cells": [
  {
   "cell_type": "markdown",
   "metadata": {
    "id": "6CMPsHeiuCE0"
   },
   "source": [
    "# Lab : Transfer Learning Using MobileNet (Cats and Dogs!)\n",
    "\n",
    "### Overview\n",
    "We will use a mobile net model and train it to recognize cats and dogs\n",
    "\n",
    "### Run Platform\n",
    "Run this on Google Colab\n",
    "\n",
    "### References\n",
    "- [MobileNet github](https://github.com/tensorflow/models/tree/master/research/slim/nets/mobilenet)\n",
    "- [Transfer Learning using Mobilenet and Keras](https://towardsdatascience.com/transfer-learning-using-mobilenet-and-keras-c75daf7ff299)\n",
    "- [Comparing MobileNet Models in TensorFlow](https://heartbeat.fritz.ai/exploring-the-mobilenet-models-in-tensorflow-d9d21774cdab)\n",
    "\n",
    "## Before you start!\n",
    "Set the hardware accelerator to None (to use CPU)"
   ]
  },
  {
   "cell_type": "code",
   "execution_count": null,
   "metadata": {
    "colab": {
     "base_uri": "https://localhost:8080/"
    },
    "id": "QCxKO4bsFexo",
    "outputId": "a12882d8-d071-4e2b-903b-e61a52f02152"
   },
   "outputs": [],
   "source": [
    "%%shell\n",
    "\n",
    "# 1. Get Data\n",
    "data_file='https://elephantscale-public.s3.amazonaws.com/data/images/cat-dog-redux.zip'\n",
    "cat_dog_zip=\"cat-dog-redux-data.zip\"\n",
    "if [ ! -f \"$cat_dog_zip\" ] ; then\n",
    "      echo \"downloading $data_file\"\n",
    "\t    wget -O $cat_dog_zip   $data_file\n",
    "else\n",
    "        echo \"$cat_dog_zip exists\"\n",
    "fi\n",
    "\n",
    "\n",
    "\n",
    "# 2 - extract\n",
    "cat_dog_dir=\"cat-dog\"\n",
    "\n",
    "if [ ! -d \"$cat_dog_dir\" ] ; then\n",
    "        echo \"unzipping $cat_dog_zip\"\n",
    "        mkdir -p \"$cat_dog_dir\"\n",
    "        (cd $cat_dog_dir; unzip -q \"../$cat_dog_zip\")\n",
    "else\n",
    "  echo \"$cat_dog_dir exists\"\n",
    "fi\n",
    "\n",
    "#  Mac : Cmd + /\n",
    "# windows : Ctrl + /\n"
   ]
  },
  {
   "cell_type": "code",
   "execution_count": null,
   "metadata": {
    "id": "crCw8YD-AuKp"
   },
   "outputs": [],
   "source": [
    "# !unzip cat-dog-redux-data.zip"
   ]
  },
  {
   "cell_type": "code",
   "execution_count": null,
   "metadata": {
    "id": "EyIokID6ihs7"
   },
   "outputs": [],
   "source": [
    "# ! wget -q https://s3.amazonaws.com/elephantscale-public/data/cat-dog/redux/cat-dog-redux-data.zip\n",
    "# ! mkdir -p cat-dog\n",
    "# ! cd cat-dog;  unzip -q ../cat-dog-redux-data.zip "
   ]
  },
  {
   "cell_type": "code",
   "execution_count": null,
   "metadata": {
    "id": "b6OpL_ZniwxI"
   },
   "outputs": [],
   "source": [
    "import keras\n",
    "from keras.preprocessing.image import ImageDataGenerator\n",
    "from keras.models import Model\n",
    "from keras.layers import Input, Flatten, Dense, Dropout, GlobalAveragePooling2D\n",
    "from keras.applications.mobilenet import MobileNet\n",
    "import math"
   ]
  },
  {
   "cell_type": "code",
   "execution_count": null,
   "metadata": {
    "id": "vkto_RzbxBek"
   },
   "outputs": [],
   "source": [
    "TRAIN_DATA_DIR = 'cat-dog-redux/train/'\n",
    "VALIDATION_DATA_DIR = 'cat-dog-redux/val/'\n",
    "TRAIN_SAMPLES = 500\n",
    "VALIDATION_SAMPLES = 500\n",
    "NUM_CLASSES=2\n",
    "IMG_WIDTH, IMG_HEIGHT = 224, 224\n",
    "BATCH_SIZE=64"
   ]
  },
  {
   "cell_type": "code",
   "execution_count": null,
   "metadata": {
    "id": "BYzZ1fYpxF7P"
   },
   "outputs": [],
   "source": [
    "train_datagen = ImageDataGenerator(rescale=1./255,\n",
    "                                   rotation_range=20,\n",
    "                                   width_shift_range=0.2,\n",
    "                                   height_shift_range=0.2,\n",
    "                                   zoom_range=0.2)\n",
    "val_datagen = ImageDataGenerator(rescale=1./255)"
   ]
  },
  {
   "cell_type": "code",
   "execution_count": null,
   "metadata": {
    "colab": {
     "base_uri": "https://localhost:8080/"
    },
    "id": "NFoAY_kYxnmd",
    "outputId": "77aefee3-703c-44f7-80cb-cbf00bbd1166"
   },
   "outputs": [],
   "source": [
    "train_generator = train_datagen.flow_from_directory(\n",
    "                        TRAIN_DATA_DIR,\n",
    "                        target_size=(IMG_WIDTH, IMG_HEIGHT),\n",
    "                        batch_size=BATCH_SIZE,\n",
    "                        shuffle=True,\n",
    "                        seed=12345,\n",
    "                        class_mode='categorical')\n",
    "validation_generator = val_datagen.flow_from_directory(\n",
    "                        VALIDATION_DATA_DIR,\n",
    "                        target_size=(IMG_WIDTH, IMG_HEIGHT),\n",
    "                        batch_size=BATCH_SIZE,\n",
    "                        shuffle=False,\n",
    "                        class_mode='categorical')\n"
   ]
  },
  {
   "cell_type": "code",
   "execution_count": null,
   "metadata": {
    "id": "yk9gBAcHxTGu"
   },
   "outputs": [],
   "source": [
    "def model_maker():\n",
    "    base_model = MobileNet(include_top=False, input_shape = (IMG_WIDTH,IMG_HEIGHT,3))\n",
    "    for layer in base_model.layers[:]:\n",
    "        layer.trainable = False # Freeze the layers\n",
    "    input = Input(shape=(IMG_WIDTH, IMG_HEIGHT, 3))\n",
    "    custom_model = base_model(input)\n",
    "    custom_model = GlobalAveragePooling2D()(custom_model)\n",
    "    custom_model = Dense(64, activation='relu')(custom_model)\n",
    "    custom_model = Dropout(0.5)(custom_model)\n",
    "    predictions = Dense(NUM_CLASSES, activation='softmax')(custom_model)\n",
    "    return Model(inputs=input, outputs=predictions)"
   ]
  },
  {
   "cell_type": "code",
   "execution_count": null,
   "metadata": {
    "colab": {
     "base_uri": "https://localhost:8080/"
    },
    "id": "ReHVY61ZxWVX",
    "outputId": "ca4f4377-2015-423c-c6d0-ce6bbcd7b8e4"
   },
   "outputs": [],
   "source": [
    "model = model_maker()\n",
    "model.compile(loss='categorical_crossentropy',\n",
    "              optimizer= keras.optimizers.Adam(lr=0.001),\n",
    "              metrics=['acc'])\n",
    "model.fit_generator(train_generator,\n",
    "                    steps_per_epoch = math.ceil(float(TRAIN_SAMPLES) / BATCH_SIZE),\n",
    "                    epochs=10,\n",
    "                    validation_data = validation_generator,\n",
    "                    validation_steps = math.ceil(float(VALIDATION_SAMPLES) / BATCH_SIZE))"
   ]
  },
  {
   "cell_type": "code",
   "execution_count": null,
   "metadata": {
    "id": "_gvkA_7Z8Vuk"
   },
   "outputs": [],
   "source": [
    "model.save('model.h5')"
   ]
  },
  {
   "cell_type": "code",
   "execution_count": null,
   "metadata": {
    "id": "LIf-XMBGxYxA"
   },
   "outputs": [],
   "source": [
    "from keras.models import load_model\n",
    "model = load_model('model.h5')"
   ]
  },
  {
   "cell_type": "code",
   "execution_count": null,
   "metadata": {
    "id": "-n0sWZOE81rB"
   },
   "outputs": [],
   "source": []
  },
  {
   "cell_type": "code",
   "execution_count": null,
   "metadata": {
    "colab": {
     "base_uri": "https://localhost:8080/"
    },
    "id": "NPGI2ja_8XQ_",
    "outputId": "4b2fed17-9817-4d8f-abae-1314df0a19bd"
   },
   "outputs": [],
   "source": [
    "import numpy as np\n",
    "\n",
    "img_path = 'cat-dog-redux/val/dog/dog.3045.jpg'\n",
    "img = keras.preprocessing.image.load_img(img_path, target_size=(224,224))\n",
    "img_array = keras.preprocessing.image.img_to_array(img)\n",
    "expanded_img_array = np.expand_dims(img_array, axis=0)\n",
    "preprocessed_img = expanded_img_array / 255. # Preprocess the image\n",
    "prediction = model.predict(preprocessed_img)\n",
    "print(prediction)\n",
    "print(validation_generator.class_indices)\n",
    "[[0.9967706]]\n",
    "{'dog': 1, 'cat': 0}"
   ]
  },
  {
   "cell_type": "code",
   "execution_count": null,
   "metadata": {
    "colab": {
     "base_uri": "https://localhost:8080/"
    },
    "id": "9_wlks2fRG_v",
    "outputId": "9c1c5b66-891d-4731-969c-ec4336f5e5bd"
   },
   "outputs": [],
   "source": [
    "#####################\n",
    "##### VARIABLES #####\n",
    "#####################\n",
    "\n",
    "IMG_WIDTH, IMG_HEIGHT = 224, 224\n",
    "VALIDATION_DATA_DIR = 'cat-dog-redux/val/'\n",
    "VALIDATION_BATCH_SIZE = 64\n",
    "\n",
    "#####################\n",
    "## DATA GENERATORS ##\n",
    "#####################\n",
    "\n",
    "validation_datagen = ImageDataGenerator(\n",
    "        rescale=1./255)\n",
    "\n",
    "validation_generator = validation_datagen.flow_from_directory(\n",
    "        VALIDATION_DATA_DIR,\n",
    "        target_size=(IMG_WIDTH, IMG_HEIGHT),\n",
    "        batch_size=VALIDATION_BATCH_SIZE,\n",
    "        shuffle=False,\n",
    "        class_mode='categorical')\n",
    "\n",
    "ground_truth = validation_generator.classes"
   ]
  },
  {
   "cell_type": "code",
   "execution_count": null,
   "metadata": {
    "colab": {
     "base_uri": "https://localhost:8080/"
    },
    "id": "GrRHuDb5fTsq",
    "outputId": "5b79adfc-8f67-44af-9cd4-99da75bdd475"
   },
   "outputs": [],
   "source": [
    "predictions = model.predict_generator(validation_generator, steps=(500/VALIDATION_BATCH_SIZE))\n"
   ]
  },
  {
   "cell_type": "code",
   "execution_count": null,
   "metadata": {
    "id": "dlDWkL-wfaQ_"
   },
   "outputs": [],
   "source": [
    "# prediction_table is a dict with index, prediction, ground truth\n",
    "prediction_table = {}\n",
    "for index, val in enumerate(predictions):\n",
    "    #get argmax index\n",
    "    index_of_highest_probability = np.argmax(val)\n",
    "    value_of_highest_probability = val[index_of_highest_probability]\n",
    "    prediction_table[index] = [value_of_highest_probability, index_of_highest_probability,\n",
    "    ground_truth[index]]\n",
    "assert len(predictions) == len(ground_truth) == len(prediction_table)"
   ]
  },
  {
   "cell_type": "code",
   "execution_count": null,
   "metadata": {
    "id": "YYW8J7wAfcxx"
   },
   "outputs": [],
   "source": [
    "# Helper function that finds images that are closest\n",
    "# Input parameters:\n",
    "#   prediction_table: dictionary from the image index to the prediction\n",
    "#                      and ground truth for that image\n",
    "#   get_highest_probability: boolean flag to indicate if the results\n",
    "#                            need to be highest (True) or lowest (False) probabilities\n",
    "#   label: id of category\n",
    "#   number_of_items: num of results to return\n",
    "#   only_false_predictions: boolean flag to indicate if results\n",
    "#                           should only contain incorrect predictions\n",
    "def get_images_with_sorted_probabilities(prediction_table, get_highest_probability,\n",
    " label, number_of_items, only_false_predictions=False):\n",
    "    sorted_prediction_table = [ (k, prediction_table[k]) for k in sorted(prediction_table, key=prediction_table.get, reverse= get_highest_probability)]\n",
    "    result = []\n",
    "    for index, key in enumerate(sorted_prediction_table):\n",
    "        image_index, [probability, predicted_index, gt] = key\n",
    "        \n",
    "        if predicted_index == label:\n",
    "            if only_false_predictions == True:\n",
    "                if predicted_index != gt:\n",
    "                    result.append([image_index, [probability, predicted_index, gt] ])\n",
    "            else:\n",
    "                result.append([image_index, [probability, predicted_index, gt] ])\n",
    "        if len(result) >= number_of_items:\n",
    "            return result"
   ]
  },
  {
   "cell_type": "code",
   "execution_count": null,
   "metadata": {
    "id": "ganZoOY_ffOK"
   },
   "outputs": [],
   "source": [
    "import matplotlib.image as mpimg\n",
    "import matplotlib.pyplot as plt\n",
    "\n",
    "# Helper functions to plot the nearest images given a query image\n",
    "def plot_images(filenames, distances, message):\n",
    "    images = []\n",
    "    for filename in filenames:\n",
    "        images.append(mpimg.imread(filename))\n",
    "    plt.figure(figsize=(20,15))\n",
    "    columns = 5\n",
    "    for i, image in enumerate(images):\n",
    "        ax = plt.subplot(len(images) / columns + 1, columns, i + 1)\n",
    "        ax.set_title( \"\\n\\n\"+  filenames[i].split(\"/\")[-1]+\"\\n\"+\"\\nProbability: \" +\n",
    "        str(float(\"{0:.2f}\".format(distances[i]))))\n",
    "        plt.suptitle( message, fontsize=20, fontweight='bold')\n",
    "        plt.axis('off')\n",
    "        plt.imshow(image)\n",
    "\n",
    "\n",
    "def display(sorted_indicies, message, fnames):\n",
    "    similar_image_paths = []\n",
    "    distances = []\n",
    "    for name, value in sorted_indicies:\n",
    "        [probability, predicted_index, gt] = value\n",
    "        similar_image_paths.append(VALIDATION_DATA_DIR + fnames[name])\n",
    "        distances.append(probability)\n",
    "    plot_images(similar_image_paths,distances, message)"
   ]
  },
  {
   "cell_type": "markdown",
   "metadata": {
    "id": "4B6aC6_Qff95"
   },
   "source": [
    "Which images are we most confident contain dogs? Let’s find images with the highest prediction probability (i.e. closest to 1.0) with the predicted class dog (i.e. 1).\n",
    "\n"
   ]
  },
  {
   "cell_type": "code",
   "execution_count": null,
   "metadata": {
    "colab": {
     "base_uri": "https://localhost:8080/",
     "height": 663
    },
    "id": "mVcEW4FtfoFj",
    "outputId": "967fea2a-f407-4aa4-9768-6008a25c0580"
   },
   "outputs": [],
   "source": [
    "# Most confident predictions of 'dog'\n",
    "indices = get_images_with_sorted_probabilities(prediction_table, True, 1, 10, False)\n",
    "message = 'Images with the highest probability of containing dogs'\n",
    "display(indices[:10], message, validation_generator.filenames)"
   ]
  },
  {
   "cell_type": "markdown",
   "metadata": {
    "id": "JKL1_E3Gfy0M"
   },
   "source": [
    "These images are indeed very dog-like. One of the reasons why the probability is so high can be attributed to containing multiple dogs, as well as clear, unambiguous views. Now let’s try to find which images are we least confident of containing dogs?"
   ]
  },
  {
   "cell_type": "code",
   "execution_count": null,
   "metadata": {
    "colab": {
     "base_uri": "https://localhost:8080/",
     "height": 667
    },
    "id": "ZPmzLbZ0fw5i",
    "outputId": "59a00253-63c5-43b3-f636-5a6e31b7a91e"
   },
   "outputs": [],
   "source": [
    "# Least confident predictions of 'dog'\n",
    "indices = get_images_with_sorted_probabilities(prediction_table, False, 1, 10, False)\n",
    "message = 'Images with the lowest probability of containing dogs'\n",
    "display(indices[:10], message, validation_generator.filenames)\n"
   ]
  },
  {
   "cell_type": "markdown",
   "metadata": {
    "id": "5UaTZ0t1f6k9"
   },
   "source": [
    "To repeat, these are the images our classifier is most unsure of containing a dog. Most of these predictions are right at the tipping point (i.e. 0.5 probability) to be the majority prediction. Keep in mind the probability of being a cat is just slightly smaller, around 0.49. Compared to the previous set of images, these images are often smaller and less clear images. And often contain mispredictions - only 2 of the 10 images were the correctly predicted. One possible way to do better here is training with a larger set of images.\n",
    "\n",
    "If you are concerned about these misclassifications, worry not. A simple trick to improve the classification accuracy is to have a higher threshold for accepting a classifier’s results, say 0.75. If the classifier is unsure of an image category, its results are withheld. In chapter 4, we will look at how to find an optimal threshold.\n",
    "\n",
    "Talking of mispredictions, they are obviously expected when the classifier has low confidence (i.e. near 0.5 probability for a 2 class problem). But what we don’t want is to mispredict when our classifier is really sure of its predictions. Let’s check which images the classifier is confident contain dogs in spite of them being cats."
   ]
  },
  {
   "cell_type": "code",
   "execution_count": null,
   "metadata": {
    "id": "73T1PM2GjkB1"
   },
   "outputs": [],
   "source": [
    "# This may not work if there are not enough mispredictions\n",
    "\n",
    "get_images_with_sorted_probabilities(prediction_table,True,1,10,True)\n",
    "\n"
   ]
  },
  {
   "cell_type": "code",
   "execution_count": null,
   "metadata": {
    "colab": {
     "base_uri": "https://localhost:8080/"
    },
    "id": "SaenWZwLf8Hv",
    "outputId": "d572d325-f402-4e0c-c81e-7c6a28e424ef"
   },
   "outputs": [],
   "source": [
    "# Incorrect predictions of 'dog'\n",
    "indices = get_images_with_sorted_probabilities(prediction_table, True, 1, 10, True)\n",
    "message = 'Images of cats with the highest probability of containing dogs'\n",
    "\n",
    "if indices:\n",
    "  display(indices[:10], message, validation_generator.filenames)\n",
    "else:\n",
    "  print(\"Not enough images fit into this category\")"
   ]
  },
  {
   "cell_type": "markdown",
   "metadata": {
    "id": "T6HXxL7dgD2_"
   },
   "source": [
    "Hmm… turns out half of these images contain both cats and dogs, and our classifier is correctly predicting the dog category as they are bigger in size in these images. Thus it’s not the classifier but the data which is incorrect here. This often happens in large datasets. The remaining half often contain unclear and relatively smaller objects (but ideally we want to expect lower confidence for these hard to identify images).\n",
    "\n",
    "Repeating the same set of question for the cat class, which images are more cat-like?"
   ]
  },
  {
   "cell_type": "code",
   "execution_count": null,
   "metadata": {
    "colab": {
     "base_uri": "https://localhost:8080/",
     "height": 667
    },
    "id": "BlSO__iQgC5e",
    "outputId": "c9e2c2cf-55a9-4b0f-aa89-da7ad3f929a4"
   },
   "outputs": [],
   "source": [
    "# Most confident predictions of 'cat'\n",
    "indices = get_images_with_sorted_probabilities(prediction_table, True, 0, 10, False)\n",
    "message = 'Images with the highest probability of containing cats'\n",
    "display(indices[:10], message, validation_generator.filenames)"
   ]
  },
  {
   "cell_type": "markdown",
   "metadata": {
    "id": "uTiT1QGVgOi9"
   },
   "source": []
  },
  {
   "cell_type": "code",
   "execution_count": null,
   "metadata": {
    "colab": {
     "base_uri": "https://localhost:8080/",
     "height": 667
    },
    "id": "azcnG7k6gNzt",
    "outputId": "a4dc5bf4-3089-4927-fc4a-8d8fc9de3d79"
   },
   "outputs": [],
   "source": [
    "# Least confident predictions of 'cat'\n",
    "indices = get_images_with_sorted_probabilities(prediction_table, False, 0, 10, False)\n",
    "message = 'Images with the lowest probability of containing cats'\n",
    "display(indices[:10], message, validation_generator.filenames)"
   ]
  },
  {
   "cell_type": "markdown",
   "metadata": {
    "id": "fLeNBnDigbd4"
   },
   "source": [
    "Like previously seen, the key object size is small, and some of the images are quite unclear meaning there is too much contrast in some cases or the object is too bright, something not in line with most of the training images. For example, the camera flash in the eighth (dog.6680) and tenth (dog.1625) images makes it hard to recognize. The sixth image contains a dog in front of a sofa of the same color. Two images contain cages.\n",
    "\n",
    "Lastly, which images is our classifier mistakenly sure of containing cats?"
   ]
  },
  {
   "cell_type": "code",
   "execution_count": null,
   "metadata": {
    "colab": {
     "base_uri": "https://localhost:8080/"
    },
    "id": "fyuc_lz5gjdv",
    "outputId": "9dda9e30-a53e-4a44-ce22-b52eb0d46f16"
   },
   "outputs": [],
   "source": [
    "# Incorrect predictions of 'cat'\n",
    "indices = get_images_with_sorted_probabilities(prediction_table, True, 0, 10, True)\n",
    "\n",
    "if indices:\n",
    "  message = 'Images of dogs with the highest probability of containing cats'\n",
    "  display(indices[:10], message, validation_generator.filenames)\n",
    "else:\n",
    "  print (\"no incorrect predictions of cat\")\n"
   ]
  },
  {
   "cell_type": "code",
   "execution_count": null,
   "metadata": {
    "id": "Sz9K2trvnD0s"
   },
   "outputs": [],
   "source": []
  }
 ],
 "metadata": {
  "accelerator": "GPU",
  "colab": {
   "collapsed_sections": [],
   "name": "cpu-gpu-benchmark-cat-dog.ipynb",
   "provenance": []
  },
  "kernelspec": {
   "display_name": "Python 3",
   "language": "python",
   "name": "python3"
  },
  "language_info": {
   "codemirror_mode": {
    "name": "ipython",
    "version": 3
   },
   "file_extension": ".py",
   "mimetype": "text/x-python",
   "name": "python",
   "nbconvert_exporter": "python",
   "pygments_lexer": "ipython3",
   "version": "3.8.3"
  }
 },
 "nbformat": 4,
 "nbformat_minor": 4
}
